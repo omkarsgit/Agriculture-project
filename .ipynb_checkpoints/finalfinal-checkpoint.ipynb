{
 "cells": [
  {
   "cell_type": "markdown",
   "metadata": {},
   "source": [
    "\n",
    "# CS534: EXPLORING THE AGRICULTURE IN INDIA USING SPARK AND MACHINE LEARNING\n",
    "\n",
    "**Omkar Asawale (osa20)**\n",
    "\n",
    "**Pranita Eugena Burani (peb63)** \n",
    "\n",
    "\n",
    "\n",
    "## Introduction\n",
    "\n",
    "Agriculture plays a vital role in Indian Economy.\n",
    "It contributes about 18% towards Annual GDP, 70% of jobs in rural areas are agriculture dependend.\n",
    "Crop Yield in any country mainly depends on technological advancements and weather variability. Technological advancements do not involve uncertainities, they only contibute towards the increase in production, therefore some parameter of time can be used used to study the effect of technology on yield, whereas the weather conditions have always been an uncontrolled source for the prediction of yield.\n",
    "But due to the latest advancements, weather forecast has been reliable and accurate.\n",
    "This makes the whole idea of predicting agricultural yield acceptable.\n",
    "\n",
    "## Data Collection/ Source of the Data\n",
    "We wanted to know much India has progressed since its independence and the formation of Republic of India in 1950. \n",
    "The Indian Agriclture and Climate Data set we are using is from the dataset compiled by Duke university. \"Information about data for development research\". \n",
    "The database provides district level data on agriculture and climate in India from 1957/58 through 1986/87. The dataset includes information on\n",
    "1. Area planted, production and farm harvest prices for five major and fifteen minor crops.\n",
    "2. Areas under irrigated and high-yielding varieties (HYV) for major crops.\n",
    "3. Data on agricultural inputs, such as, fertilizers, bullocks and tractors - in both quantity and price terms\n",
    "4. Agricultural labor, cultivators, wages and factory earnings, rural population and literacy proportion.\n",
    "5. Meteorological station level climate data (average climate over 30 year period)\n",
    "6. Soil data \n",
    "\n",
    "\n",
    "## Objectives\n",
    "\n",
    "1. Predict the crop yield for major crops in one state based on weather conditions.\n",
    "2. Recommend high yield variety for every district in the state.\n",
    "\n",
    "## Data Description\n",
    "\n",
    "Apart from basic ID's the important features in the dataset we used in this analysis are\n",
    "1. STATENAM - Name of the state\n",
    "2. DISTNAME - Name of the district\n",
    "3. ACROP - Area of the crop planted(number*1000 ha)\n",
    "4. QCROP - Production of the crop(number*1000 tonnes)\n",
    "5. PCROP - Price of the crop(Rupees/quintal)\n",
    "6. RNMONTH - Rainfall in mm for every month\n",
    "7. TNMONTH - Temperature in degree celcius for every month\n",
    "8. YEAR - 1956-1987\n",
    "\n",
    "For more detailed description of the data https://ipl.econ.duke.edu/dthomas/dev_data/datafiles/india_agric_climate.htm\n",
    "\n",
    "\n",
    "## Preprocessing \n",
    "The dataset provided was in cfm format(Coldfusion Markup Language) and each cfm file is a year's worth of data.\n",
    "Each file contains a contains a continuous list of space-separated values; these are observations for 271 districts and 227 variables per year.\n",
    "\n",
    "cfm files were converted to text files. With the help of STATA software application, we converted .txt files to .dta files, finally used pandas library to convert .dta to .csv files.\n",
    "\n",
    "STATA produced csv files based on the year of data. With the help of a small python script, we were able to merge all the files into a single csv file. This file was loaded into spark for analysis. \n",
    "\n",
    "We have used Pyspark to remove unwanted data from the csv file. \n",
    "Due to inconsitencies in data from 1950 to 1955. We decided not use it for analysis in this report. \n",
    "\n",
    "## Data Analysis\n",
    "\n",
    "## Analysis 1:\n",
    "\n",
    "Which States to Consider for the chosen Crops?\n",
    "\n",
    "Basic objective is to maximize the yield production.\n",
    "In our dataset we have data from 1956-87\n",
    "So we chose to plot the above graphs for 1956, 1966,1976 and 1986\n",
    "In 1956 - Top 3 highest Rice Yield is from the states - West Bengal,Tamil Nadu and Bihar\n",
    "          Lowest 3 Yield from Punjab, Haryana, Rajastan\n",
    "          \n",
    "Similarly for the years 1966, 1976,1986 The top and lowest yields are as follows\n",
    "1966- High - West Bengal, Tamil Nadu, Orissa and Low - Punjab, Gujarat, Rajasthan\n",
    "1976- High - West Bengal, Tamil Nadu, Bihar and Low - Madhya Pradesh, Gujarat, Rajasthan\n",
    "1988- High - West Bengal, Punjab, Tamil Nadu and Low - Maharashtra ,Gujarat, Rajasthan\n",
    "\n",
    "Not only should we cold we consider the Production but also the should consider the Area the crops were planted in.\n",
    "\n",
    "For this the results for the above years is as follows.\n",
    "1956 - High - Orissa, West Bengal, Bihar and Low - Punjab, Haryana, Rajasthan\n",
    "1966 - High - Orissa, West Benagl, Bihar and Low - Gujarat, Punjab, Rajasthan\n",
    "1976 - High - Orissa, West Bengal, Bihar and Low - MadhyaPradesh, Gujarat, Rajasthan\n",
    "1986 - High - West Bengal, Orissa, Bihar and Low - Maharashtra, Gujarat, Rajasthan.\n",
    "\n",
    "From the above analysis it is clear that  West Bengal, Orissa, Bihar have highest area allotted for Rice plantation and also had highest yield among others states.\n",
    "\n",
    "Similar Analysis was done for other crops and decided to use.\n",
    "West_Bengal - For Rice\n",
    "Uttar_Pradesh - For Sugar\n",
    "Punjab - For Cotton\n",
    "Punjab - For Wheat\n",
    "\n",
    "Plots for the above analysis are in the folder with file names as crop names\n",
    "\n",
    "\n",
    "\n",
    "## Analysis 2\n",
    "\n",
    "The cost per quintal values are plotted against the years for crops corresponding to the states of their high production and low production, no big difference in the price of the crop for that particular year, but with the increase in years the price increased(with some dips, because of few nulls in the data).\n"
   ]
  },
  {
   "cell_type": "markdown",
   "metadata": {},
   "source": []
  },
  {
   "cell_type": "code",
   "execution_count": 19,
   "metadata": {},
   "outputs": [],
   "source": [
    "from __future__ import division, print_function, unicode_literals\n",
    "from numpy import *\n",
    "import numpy as np\n",
    "import matplotlib.pyplot as mplot\n",
    "import matplotlib.pylab as plt\n",
    "import matplotlib.cm as cm\n",
    "import matplotlib as mpl\n",
    "import pandas as pd\n",
    "import seaborn as sns #Need to install\n",
    "import scipy.stats as stats\n",
    "import pylab\n",
    "import warnings\n",
    "warnings.filterwarnings('ignore')\n",
    "from itertools import cycle\n",
    "from sklearn.cluster import KMeans as km\n",
    "from sklearn.linear_model import LinearRegression as LR\n",
    "from sklearn.linear_model import Lasso as LS\n",
    "from sklearn.linear_model import Ridge as RG\n",
    "from sklearn.tree import DecisionTreeRegressor as scart\n",
    "from sklearn.manifold import TSNE\n",
    "%matplotlib inline"
   ]
  },
  {
   "cell_type": "markdown",
   "metadata": {},
   "source": [
    "#### Loading data into csv for crop production"
   ]
  },
  {
   "cell_type": "code",
   "execution_count": 20,
   "metadata": {},
   "outputs": [],
   "source": [
    "crop_prod=pd.read_csv('agri_data_3/sum_prod.csv',delimiter=',')\n",
    "crop_prod=crop_prod.fillna(0)\n",
    "# print(crop_prod.dtypes)\n",
    "crop_prod.sort_values(by=crop_prod.columns[0])\n",
    "STATENAM = sorted(set(crop_prod.iloc[:,0].values))\n",
    "crop_price=pd.read_csv(\"agri_data_3/price_avg.csv\",delimiter=',')\n",
    "for i in range(1,crop_price.shape[1]):\n",
    "    crop_price.iloc[:,i]=pd.to_numeric(crop_price.iloc[:,i],errors='coerce')\n",
    "    crop_price.iloc[:,i]=crop_price.iloc[:,i].fillna(0)\n"
   ]
  },
  {
   "cell_type": "markdown",
   "metadata": {},
   "source": [
    "**Area of cultivation**"
   ]
  },
  {
   "cell_type": "code",
   "execution_count": 59,
   "metadata": {},
   "outputs": [],
   "source": [
    "area_cult=pd.read_csv(\"agri_data_3/sum_area.csv\",delimiter=',')\n",
    "# print(sum(area_cult.isna()))\n",
    "#area_cult.head()"
   ]
  },
  {
   "cell_type": "markdown",
   "metadata": {},
   "source": [
    "**Price of the crop**"
   ]
  },
  {
   "cell_type": "code",
   "execution_count": 22,
   "metadata": {},
   "outputs": [
    {
     "data": {
      "text/html": [
       "<div>\n",
       "<style scoped>\n",
       "    .dataframe tbody tr th:only-of-type {\n",
       "        vertical-align: middle;\n",
       "    }\n",
       "\n",
       "    .dataframe tbody tr th {\n",
       "        vertical-align: top;\n",
       "    }\n",
       "\n",
       "    .dataframe thead th {\n",
       "        text-align: right;\n",
       "    }\n",
       "</style>\n",
       "<table border=\"1\" class=\"dataframe\">\n",
       "  <thead>\n",
       "    <tr style=\"text-align: right;\">\n",
       "      <th></th>\n",
       "      <th>STATENAM</th>\n",
       "      <th>YEAR</th>\n",
       "      <th>PJOWAR</th>\n",
       "      <th>PMAIZE</th>\n",
       "      <th>PWHEAT</th>\n",
       "      <th>PSUGAR</th>\n",
       "      <th>PPOTATO</th>\n",
       "      <th>PGNUT</th>\n",
       "      <th>PRICE</th>\n",
       "      <th>PBAJRA</th>\n",
       "      <th>...</th>\n",
       "      <th>PTOBAC</th>\n",
       "      <th>PBARLEY</th>\n",
       "      <th>PGRAM</th>\n",
       "      <th>PSESAMUM</th>\n",
       "      <th>PRMSEED</th>\n",
       "      <th>PCOTTON</th>\n",
       "      <th>POPULS</th>\n",
       "      <th>PSOY</th>\n",
       "      <th>PSUNFLWR</th>\n",
       "      <th>PJUTE</th>\n",
       "    </tr>\n",
       "  </thead>\n",
       "  <tbody>\n",
       "    <tr>\n",
       "      <th>0</th>\n",
       "      <td>BIHAR</td>\n",
       "      <td>1956</td>\n",
       "      <td>0.000000</td>\n",
       "      <td>29.885588</td>\n",
       "      <td>49.465294</td>\n",
       "      <td>41.099412</td>\n",
       "      <td>28.259765</td>\n",
       "      <td>36.620000</td>\n",
       "      <td>48.061176</td>\n",
       "      <td>0.000000</td>\n",
       "      <td>...</td>\n",
       "      <td>196.132588</td>\n",
       "      <td>34.117471</td>\n",
       "      <td>40.171471</td>\n",
       "      <td>70.066706</td>\n",
       "      <td>73.758824</td>\n",
       "      <td>0.000000</td>\n",
       "      <td>34.860412</td>\n",
       "      <td>0.0</td>\n",
       "      <td>0.0</td>\n",
       "      <td>40.333529</td>\n",
       "    </tr>\n",
       "    <tr>\n",
       "      <th>1</th>\n",
       "      <td>HARYANA</td>\n",
       "      <td>1956</td>\n",
       "      <td>27.611667</td>\n",
       "      <td>30.828667</td>\n",
       "      <td>39.260000</td>\n",
       "      <td>29.198577</td>\n",
       "      <td>28.707825</td>\n",
       "      <td>40.249539</td>\n",
       "      <td>31.051667</td>\n",
       "      <td>34.910000</td>\n",
       "      <td>...</td>\n",
       "      <td>134.408667</td>\n",
       "      <td>30.355833</td>\n",
       "      <td>31.949833</td>\n",
       "      <td>80.240000</td>\n",
       "      <td>72.116333</td>\n",
       "      <td>70.634165</td>\n",
       "      <td>31.949833</td>\n",
       "      <td>0.0</td>\n",
       "      <td>0.0</td>\n",
       "      <td>0.000000</td>\n",
       "    </tr>\n",
       "    <tr>\n",
       "      <th>2</th>\n",
       "      <td>WEST_BENGAL</td>\n",
       "      <td>1956</td>\n",
       "      <td>0.000000</td>\n",
       "      <td>27.967157</td>\n",
       "      <td>40.333238</td>\n",
       "      <td>41.578080</td>\n",
       "      <td>24.780750</td>\n",
       "      <td>0.000000</td>\n",
       "      <td>51.761852</td>\n",
       "      <td>0.000000</td>\n",
       "      <td>...</td>\n",
       "      <td>164.131440</td>\n",
       "      <td>30.733488</td>\n",
       "      <td>30.810286</td>\n",
       "      <td>0.000000</td>\n",
       "      <td>71.472148</td>\n",
       "      <td>0.000000</td>\n",
       "      <td>0.000000</td>\n",
       "      <td>0.0</td>\n",
       "      <td>0.0</td>\n",
       "      <td>66.223333</td>\n",
       "    </tr>\n",
       "    <tr>\n",
       "      <th>3</th>\n",
       "      <td>MADHYA_PRADESH</td>\n",
       "      <td>1956</td>\n",
       "      <td>35.146512</td>\n",
       "      <td>24.500000</td>\n",
       "      <td>43.913953</td>\n",
       "      <td>36.691395</td>\n",
       "      <td>28.560710</td>\n",
       "      <td>34.370930</td>\n",
       "      <td>42.751163</td>\n",
       "      <td>40.348837</td>\n",
       "      <td>...</td>\n",
       "      <td>301.959302</td>\n",
       "      <td>33.222590</td>\n",
       "      <td>33.322326</td>\n",
       "      <td>67.640465</td>\n",
       "      <td>60.122173</td>\n",
       "      <td>57.483488</td>\n",
       "      <td>37.528128</td>\n",
       "      <td>0.0</td>\n",
       "      <td>0.0</td>\n",
       "      <td>0.000000</td>\n",
       "    </tr>\n",
       "    <tr>\n",
       "      <th>4</th>\n",
       "      <td>KARNATAKA</td>\n",
       "      <td>1956</td>\n",
       "      <td>31.831579</td>\n",
       "      <td>27.757895</td>\n",
       "      <td>51.610526</td>\n",
       "      <td>32.278947</td>\n",
       "      <td>38.688244</td>\n",
       "      <td>40.758421</td>\n",
       "      <td>67.215789</td>\n",
       "      <td>29.078947</td>\n",
       "      <td>...</td>\n",
       "      <td>217.828421</td>\n",
       "      <td>48.226340</td>\n",
       "      <td>43.191579</td>\n",
       "      <td>49.941055</td>\n",
       "      <td>62.801414</td>\n",
       "      <td>82.564737</td>\n",
       "      <td>37.220526</td>\n",
       "      <td>0.0</td>\n",
       "      <td>0.0</td>\n",
       "      <td>0.000000</td>\n",
       "    </tr>\n",
       "  </tbody>\n",
       "</table>\n",
       "<p>5 rows × 22 columns</p>\n",
       "</div>"
      ],
      "text/plain": [
       "         STATENAM  YEAR     PJOWAR     PMAIZE     PWHEAT     PSUGAR  \\\n",
       "0           BIHAR  1956   0.000000  29.885588  49.465294  41.099412   \n",
       "1         HARYANA  1956  27.611667  30.828667  39.260000  29.198577   \n",
       "2     WEST_BENGAL  1956   0.000000  27.967157  40.333238  41.578080   \n",
       "3  MADHYA_PRADESH  1956  35.146512  24.500000  43.913953  36.691395   \n",
       "4       KARNATAKA  1956  31.831579  27.757895  51.610526  32.278947   \n",
       "\n",
       "     PPOTATO      PGNUT      PRICE     PBAJRA  ...      PTOBAC    PBARLEY  \\\n",
       "0  28.259765  36.620000  48.061176   0.000000  ...  196.132588  34.117471   \n",
       "1  28.707825  40.249539  31.051667  34.910000  ...  134.408667  30.355833   \n",
       "2  24.780750   0.000000  51.761852   0.000000  ...  164.131440  30.733488   \n",
       "3  28.560710  34.370930  42.751163  40.348837  ...  301.959302  33.222590   \n",
       "4  38.688244  40.758421  67.215789  29.078947  ...  217.828421  48.226340   \n",
       "\n",
       "       PGRAM   PSESAMUM    PRMSEED    PCOTTON     POPULS  PSOY  PSUNFLWR  \\\n",
       "0  40.171471  70.066706  73.758824   0.000000  34.860412   0.0       0.0   \n",
       "1  31.949833  80.240000  72.116333  70.634165  31.949833   0.0       0.0   \n",
       "2  30.810286   0.000000  71.472148   0.000000   0.000000   0.0       0.0   \n",
       "3  33.322326  67.640465  60.122173  57.483488  37.528128   0.0       0.0   \n",
       "4  43.191579  49.941055  62.801414  82.564737  37.220526   0.0       0.0   \n",
       "\n",
       "       PJUTE  \n",
       "0  40.333529  \n",
       "1   0.000000  \n",
       "2  66.223333  \n",
       "3   0.000000  \n",
       "4   0.000000  \n",
       "\n",
       "[5 rows x 22 columns]"
      ]
     },
     "execution_count": 22,
     "metadata": {},
     "output_type": "execute_result"
    }
   ],
   "source": [
    "crop_price.head()"
   ]
  },
  {
   "cell_type": "markdown",
   "metadata": {},
   "source": [
    "**Visualization of the Crop Price data**"
   ]
  },
  {
   "cell_type": "code",
   "execution_count": 29,
   "metadata": {},
   "outputs": [
    {
     "data": {
      "image/png": "[encoded data removed]",
      "text/plain": [
       "<Figure size 720x720 with 2 Axes>"
      ]
     },
     "metadata": {
      "needs_background": "light"
     },
     "output_type": "display_data"
    }
   ],
   "source": [
    "mat1 = np.matrix(crop_price_year.values[:,1:],dtype='float')\n",
    "# print(mat2.shape)\n",
    "mat1=np.delete(mat1,12,1)\n",
    "# print(mat2.shape)\n",
    "fig = plt.figure(num=1,figsize=(10,10))\n",
    "ax = fig.add_subplot(1,1,1)\n",
    "# ax.set_aspect('equal')\n",
    "ax.set_xticks(np.arange(len(np.delete(crop_price_year.columns[1:],12))))\n",
    "ax.set_yticks(np.arange(len(crop_price_year.iloc[:,0])))\n",
    "ax.set_xticklabels(np.delete(crop_price_year.columns[1:],12),rotation='vertical')\n",
    "ax.set_yticklabels(area_cult_year.iloc[:,0])\n",
    "plt.imshow(mat1, cmap='Blues')\n",
    "plt.colorbar()\n",
    "plt.title('Crop Prices')\n",
    "plt.show()"
   ]
  },
  {
   "cell_type": "markdown",
   "metadata": {},
   "source": [
    "**Visualization of the Crop Price data**"
   ]
  },
  {
   "cell_type": "code",
   "execution_count": 31,
   "metadata": {},
   "outputs": [
    {
     "data": {
      "image/png": "[encoded data removed]",
      "text/plain": [
       "<Figure size 720x720 with 2 Axes>"
      ]
     },
     "metadata": {
      "needs_background": "light"
     },
     "output_type": "display_data"
    }
   ],
   "source": [
    "mat1 = np.matrix(crop_price_year.values[:,1:],dtype='float')\n",
    "# print(mat2.shape)\n",
    "mat1=np.delete(mat1,12,1)\n",
    "# print(mat2.shape)\n",
    "fig = plt.figure(num=1,figsize=(10,10))\n",
    "ax = fig.add_subplot(1,1,1)\n",
    "# ax.set_aspect('equal')\n",
    "ax.set_xticks(np.arange(len(np.delete(crop_price_year.columns[1:],12))))\n",
    "ax.set_yticks(np.arange(len(crop_price_year.iloc[:,0])))\n",
    "ax.set_xticklabels(np.delete(crop_price_year.columns[1:],12),rotation='vertical')\n",
    "ax.set_yticklabels(area_cult_year.iloc[:,0])\n",
    "plt.imshow(mat1, cmap='Blues')\n",
    "plt.colorbar()\n",
    "plt.title('Crop Prices')\n",
    "plt.show()"
   ]
  },
  {
   "cell_type": "markdown",
   "metadata": {},
   "source": [
    "**Area under Cultivation Yearly**"
   ]
  },
  {
   "cell_type": "code",
   "execution_count": 32,
   "metadata": {},
   "outputs": [],
   "source": [
    "area_cult_year=pd.read_csv('agri_data_3/area_year.csv',delimiter=',')\n",
    "area_cult_year=area_cult_year.fillna(0)\n"
   ]
  },
  {
   "cell_type": "code",
   "execution_count": 33,
   "metadata": {
    "scrolled": true
   },
   "outputs": [
    {
     "data": {
      "text/html": [
       "<div>\n",
       "<style scoped>\n",
       "    .dataframe tbody tr th:only-of-type {\n",
       "        vertical-align: middle;\n",
       "    }\n",
       "\n",
       "    .dataframe tbody tr th {\n",
       "        vertical-align: top;\n",
       "    }\n",
       "\n",
       "    .dataframe thead th {\n",
       "        text-align: right;\n",
       "    }\n",
       "</style>\n",
       "<table border=\"1\" class=\"dataframe\">\n",
       "  <thead>\n",
       "    <tr style=\"text-align: right;\">\n",
       "      <th></th>\n",
       "      <th>YEAR</th>\n",
       "      <th>WHEAT</th>\n",
       "      <th>RICE</th>\n",
       "      <th>MAIZE</th>\n",
       "      <th>JOWAR</th>\n",
       "      <th>BAJRA</th>\n",
       "      <th>SUGAR</th>\n",
       "      <th>POTATO</th>\n",
       "      <th>GNUT</th>\n",
       "      <th>BARLEY</th>\n",
       "      <th>...</th>\n",
       "      <th>GRAM</th>\n",
       "      <th>TUR</th>\n",
       "      <th>RAGI</th>\n",
       "      <th>SESAMUM</th>\n",
       "      <th>RMSEED</th>\n",
       "      <th>COTTON</th>\n",
       "      <th>OPULS</th>\n",
       "      <th>SOY</th>\n",
       "      <th>SUNFLWR</th>\n",
       "      <th>JUTE</th>\n",
       "    </tr>\n",
       "  </thead>\n",
       "  <tbody>\n",
       "    <tr>\n",
       "      <th>0</th>\n",
       "      <td>1956</td>\n",
       "      <td>12951.36897</td>\n",
       "      <td>28783.21868</td>\n",
       "      <td>3352.050</td>\n",
       "      <td>16496.839</td>\n",
       "      <td>11386.333</td>\n",
       "      <td>2021.141931</td>\n",
       "      <td>231.402049</td>\n",
       "      <td>5674.862</td>\n",
       "      <td>3520.938514</td>\n",
       "      <td>...</td>\n",
       "      <td>9655.280557</td>\n",
       "      <td>3064.431</td>\n",
       "      <td>210.719</td>\n",
       "      <td>1643.351</td>\n",
       "      <td>880.358308</td>\n",
       "      <td>7944.251</td>\n",
       "      <td>5086.020</td>\n",
       "      <td>0.0</td>\n",
       "      <td>0.0</td>\n",
       "      <td>580.983</td>\n",
       "    </tr>\n",
       "    <tr>\n",
       "      <th>1</th>\n",
       "      <td>1957</td>\n",
       "      <td>11124.86045</td>\n",
       "      <td>28693.36952</td>\n",
       "      <td>3679.540</td>\n",
       "      <td>17247.415</td>\n",
       "      <td>11107.748</td>\n",
       "      <td>2021.018879</td>\n",
       "      <td>258.429187</td>\n",
       "      <td>6414.056</td>\n",
       "      <td>3169.552666</td>\n",
       "      <td>...</td>\n",
       "      <td>9100.404669</td>\n",
       "      <td>3100.436</td>\n",
       "      <td>234.834</td>\n",
       "      <td>1587.144</td>\n",
       "      <td>994.199430</td>\n",
       "      <td>7932.753</td>\n",
       "      <td>5169.518</td>\n",
       "      <td>0.0</td>\n",
       "      <td>0.0</td>\n",
       "      <td>547.372</td>\n",
       "    </tr>\n",
       "    <tr>\n",
       "      <th>2</th>\n",
       "      <td>1958</td>\n",
       "      <td>11964.39013</td>\n",
       "      <td>29432.29205</td>\n",
       "      <td>3782.756</td>\n",
       "      <td>17895.009</td>\n",
       "      <td>11357.569</td>\n",
       "      <td>1907.863530</td>\n",
       "      <td>271.796749</td>\n",
       "      <td>6240.430</td>\n",
       "      <td>3343.798489</td>\n",
       "      <td>...</td>\n",
       "      <td>10071.397620</td>\n",
       "      <td>3143.685</td>\n",
       "      <td>263.433</td>\n",
       "      <td>1731.856</td>\n",
       "      <td>966.217271</td>\n",
       "      <td>7866.980</td>\n",
       "      <td>5185.647</td>\n",
       "      <td>0.0</td>\n",
       "      <td>0.0</td>\n",
       "      <td>561.731</td>\n",
       "    </tr>\n",
       "    <tr>\n",
       "      <th>3</th>\n",
       "      <td>1959</td>\n",
       "      <td>12724.82640</td>\n",
       "      <td>30077.45306</td>\n",
       "      <td>3881.671</td>\n",
       "      <td>17645.206</td>\n",
       "      <td>10645.070</td>\n",
       "      <td>2078.814530</td>\n",
       "      <td>290.731068</td>\n",
       "      <td>6449.811</td>\n",
       "      <td>3393.273385</td>\n",
       "      <td>...</td>\n",
       "      <td>10336.769820</td>\n",
       "      <td>3140.471</td>\n",
       "      <td>269.401</td>\n",
       "      <td>1657.272</td>\n",
       "      <td>845.306753</td>\n",
       "      <td>7220.447</td>\n",
       "      <td>5203.516</td>\n",
       "      <td>0.0</td>\n",
       "      <td>0.0</td>\n",
       "      <td>497.293</td>\n",
       "    </tr>\n",
       "    <tr>\n",
       "      <th>4</th>\n",
       "      <td>1960</td>\n",
       "      <td>12259.01078</td>\n",
       "      <td>30315.49543</td>\n",
       "      <td>3925.277</td>\n",
       "      <td>18411.868</td>\n",
       "      <td>11482.312</td>\n",
       "      <td>2353.335932</td>\n",
       "      <td>291.139436</td>\n",
       "      <td>6449.220</td>\n",
       "      <td>3220.483023</td>\n",
       "      <td>...</td>\n",
       "      <td>9229.449101</td>\n",
       "      <td>3122.379</td>\n",
       "      <td>277.621</td>\n",
       "      <td>1455.727</td>\n",
       "      <td>840.690470</td>\n",
       "      <td>7536.802</td>\n",
       "      <td>5155.862</td>\n",
       "      <td>0.0</td>\n",
       "      <td>0.0</td>\n",
       "      <td>489.865</td>\n",
       "    </tr>\n",
       "  </tbody>\n",
       "</table>\n",
       "<p>5 rows × 21 columns</p>\n",
       "</div>"
      ],
      "text/plain": [
       "   YEAR        WHEAT         RICE     MAIZE      JOWAR      BAJRA  \\\n",
       "0  1956  12951.36897  28783.21868  3352.050  16496.839  11386.333   \n",
       "1  1957  11124.86045  28693.36952  3679.540  17247.415  11107.748   \n",
       "2  1958  11964.39013  29432.29205  3782.756  17895.009  11357.569   \n",
       "3  1959  12724.82640  30077.45306  3881.671  17645.206  10645.070   \n",
       "4  1960  12259.01078  30315.49543  3925.277  18411.868  11482.312   \n",
       "\n",
       "         SUGAR      POTATO      GNUT       BARLEY  ...          GRAM  \\\n",
       "0  2021.141931  231.402049  5674.862  3520.938514  ...   9655.280557   \n",
       "1  2021.018879  258.429187  6414.056  3169.552666  ...   9100.404669   \n",
       "2  1907.863530  271.796749  6240.430  3343.798489  ...  10071.397620   \n",
       "3  2078.814530  290.731068  6449.811  3393.273385  ...  10336.769820   \n",
       "4  2353.335932  291.139436  6449.220  3220.483023  ...   9229.449101   \n",
       "\n",
       "        TUR     RAGI   SESAMUM      RMSEED    COTTON     OPULS  SOY  SUNFLWR  \\\n",
       "0  3064.431  210.719  1643.351  880.358308  7944.251  5086.020  0.0      0.0   \n",
       "1  3100.436  234.834  1587.144  994.199430  7932.753  5169.518  0.0      0.0   \n",
       "2  3143.685  263.433  1731.856  966.217271  7866.980  5185.647  0.0      0.0   \n",
       "3  3140.471  269.401  1657.272  845.306753  7220.447  5203.516  0.0      0.0   \n",
       "4  3122.379  277.621  1455.727  840.690470  7536.802  5155.862  0.0      0.0   \n",
       "\n",
       "      JUTE  \n",
       "0  580.983  \n",
       "1  547.372  \n",
       "2  561.731  \n",
       "3  497.293  \n",
       "4  489.865  \n",
       "\n",
       "[5 rows x 21 columns]"
      ]
     },
     "execution_count": 33,
     "metadata": {},
     "output_type": "execute_result"
    }
   ],
   "source": [
    "area_cult_year.head()"
   ]
  },
  {
   "cell_type": "markdown",
   "metadata": {},
   "source": [
    "**Production of the crop**"
   ]
  },
  {
   "cell_type": "code",
   "execution_count": 34,
   "metadata": {},
   "outputs": [],
   "source": [
    "crop_prod_year=pd.read_csv('agri_data_3/prod_year.csv',delimiter=',')\n",
    "crop_prod_year=crop_prod_year.fillna(0)"
   ]
  },
  {
   "cell_type": "code",
   "execution_count": 35,
   "metadata": {},
   "outputs": [
    {
     "data": {
      "text/html": [
       "<div>\n",
       "<style scoped>\n",
       "    .dataframe tbody tr th:only-of-type {\n",
       "        vertical-align: middle;\n",
       "    }\n",
       "\n",
       "    .dataframe tbody tr th {\n",
       "        vertical-align: top;\n",
       "    }\n",
       "\n",
       "    .dataframe thead th {\n",
       "        text-align: right;\n",
       "    }\n",
       "</style>\n",
       "<table border=\"1\" class=\"dataframe\">\n",
       "  <thead>\n",
       "    <tr style=\"text-align: right;\">\n",
       "      <th></th>\n",
       "      <th>YEAR</th>\n",
       "      <th>WHEAT</th>\n",
       "      <th>RICE</th>\n",
       "      <th>MAIZE</th>\n",
       "      <th>JOWAR</th>\n",
       "      <th>BAJRA</th>\n",
       "      <th>SUGAR</th>\n",
       "      <th>POTATO</th>\n",
       "      <th>GNUT</th>\n",
       "      <th>BARLEY</th>\n",
       "      <th>...</th>\n",
       "      <th>GRAM</th>\n",
       "      <th>TUR</th>\n",
       "      <th>RAGI</th>\n",
       "      <th>SESAMUM</th>\n",
       "      <th>RMSEED</th>\n",
       "      <th>COTTON</th>\n",
       "      <th>OPULS</th>\n",
       "      <th>SOY</th>\n",
       "      <th>SUNFLWR</th>\n",
       "      <th>JUTE</th>\n",
       "    </tr>\n",
       "  </thead>\n",
       "  <tbody>\n",
       "    <tr>\n",
       "      <th>0</th>\n",
       "      <td>1956</td>\n",
       "      <td>8994.794262</td>\n",
       "      <td>25509.26915</td>\n",
       "      <td>2710.378</td>\n",
       "      <td>7631.323</td>\n",
       "      <td>2886.312</td>\n",
       "      <td>7013.055172</td>\n",
       "      <td>1672.284000</td>\n",
       "      <td>4566.565</td>\n",
       "      <td>2973.464745</td>\n",
       "      <td>...</td>\n",
       "      <td>6212.494223</td>\n",
       "      <td>2277.251</td>\n",
       "      <td>101.561</td>\n",
       "      <td>335.712</td>\n",
       "      <td>355.080186</td>\n",
       "      <td>816.32676</td>\n",
       "      <td>1990.496</td>\n",
       "      <td>0.0</td>\n",
       "      <td>0.0</td>\n",
       "      <td>530.96454</td>\n",
       "    </tr>\n",
       "    <tr>\n",
       "      <th>1</th>\n",
       "      <td>1957</td>\n",
       "      <td>7343.911870</td>\n",
       "      <td>21604.97523</td>\n",
       "      <td>2802.579</td>\n",
       "      <td>8597.357</td>\n",
       "      <td>3616.600</td>\n",
       "      <td>6901.704800</td>\n",
       "      <td>1875.045115</td>\n",
       "      <td>4673.989</td>\n",
       "      <td>2456.824085</td>\n",
       "      <td>...</td>\n",
       "      <td>4913.056160</td>\n",
       "      <td>2310.780</td>\n",
       "      <td>103.601</td>\n",
       "      <td>263.962</td>\n",
       "      <td>368.882894</td>\n",
       "      <td>818.12932</td>\n",
       "      <td>1925.913</td>\n",
       "      <td>0.0</td>\n",
       "      <td>0.0</td>\n",
       "      <td>504.95670</td>\n",
       "    </tr>\n",
       "    <tr>\n",
       "      <th>2</th>\n",
       "      <td>1958</td>\n",
       "      <td>9413.368621</td>\n",
       "      <td>27008.66144</td>\n",
       "      <td>2992.087</td>\n",
       "      <td>8984.954</td>\n",
       "      <td>3838.561</td>\n",
       "      <td>7096.408200</td>\n",
       "      <td>2150.681824</td>\n",
       "      <td>5144.230</td>\n",
       "      <td>2780.001367</td>\n",
       "      <td>...</td>\n",
       "      <td>7018.333270</td>\n",
       "      <td>2357.383</td>\n",
       "      <td>127.347</td>\n",
       "      <td>387.458</td>\n",
       "      <td>380.403559</td>\n",
       "      <td>822.39198</td>\n",
       "      <td>2739.836</td>\n",
       "      <td>0.0</td>\n",
       "      <td>0.0</td>\n",
       "      <td>700.33716</td>\n",
       "    </tr>\n",
       "    <tr>\n",
       "      <th>3</th>\n",
       "      <td>1959</td>\n",
       "      <td>9789.582790</td>\n",
       "      <td>27687.38011</td>\n",
       "      <td>3602.979</td>\n",
       "      <td>8516.071</td>\n",
       "      <td>3465.496</td>\n",
       "      <td>7670.902600</td>\n",
       "      <td>2516.961578</td>\n",
       "      <td>4529.749</td>\n",
       "      <td>2799.343293</td>\n",
       "      <td>...</td>\n",
       "      <td>5621.398290</td>\n",
       "      <td>2337.247</td>\n",
       "      <td>153.424</td>\n",
       "      <td>271.376</td>\n",
       "      <td>291.225574</td>\n",
       "      <td>611.17560</td>\n",
       "      <td>2661.684</td>\n",
       "      <td>0.0</td>\n",
       "      <td>0.0</td>\n",
       "      <td>556.20468</td>\n",
       "    </tr>\n",
       "    <tr>\n",
       "      <th>4</th>\n",
       "      <td>1960</td>\n",
       "      <td>10528.610090</td>\n",
       "      <td>30394.82344</td>\n",
       "      <td>3594.961</td>\n",
       "      <td>9834.699</td>\n",
       "      <td>3254.185</td>\n",
       "      <td>10798.259200</td>\n",
       "      <td>2462.428590</td>\n",
       "      <td>4727.999</td>\n",
       "      <td>2905.219627</td>\n",
       "      <td>...</td>\n",
       "      <td>6284.399685</td>\n",
       "      <td>2336.095</td>\n",
       "      <td>133.415</td>\n",
       "      <td>186.139</td>\n",
       "      <td>364.405310</td>\n",
       "      <td>926.04960</td>\n",
       "      <td>2673.806</td>\n",
       "      <td>0.0</td>\n",
       "      <td>0.0</td>\n",
       "      <td>565.71696</td>\n",
       "    </tr>\n",
       "  </tbody>\n",
       "</table>\n",
       "<p>5 rows × 21 columns</p>\n",
       "</div>"
      ],
      "text/plain": [
       "   YEAR         WHEAT         RICE     MAIZE     JOWAR     BAJRA  \\\n",
       "0  1956   8994.794262  25509.26915  2710.378  7631.323  2886.312   \n",
       "1  1957   7343.911870  21604.97523  2802.579  8597.357  3616.600   \n",
       "2  1958   9413.368621  27008.66144  2992.087  8984.954  3838.561   \n",
       "3  1959   9789.582790  27687.38011  3602.979  8516.071  3465.496   \n",
       "4  1960  10528.610090  30394.82344  3594.961  9834.699  3254.185   \n",
       "\n",
       "          SUGAR       POTATO      GNUT       BARLEY  ...         GRAM  \\\n",
       "0   7013.055172  1672.284000  4566.565  2973.464745  ...  6212.494223   \n",
       "1   6901.704800  1875.045115  4673.989  2456.824085  ...  4913.056160   \n",
       "2   7096.408200  2150.681824  5144.230  2780.001367  ...  7018.333270   \n",
       "3   7670.902600  2516.961578  4529.749  2799.343293  ...  5621.398290   \n",
       "4  10798.259200  2462.428590  4727.999  2905.219627  ...  6284.399685   \n",
       "\n",
       "        TUR     RAGI  SESAMUM      RMSEED     COTTON     OPULS  SOY  SUNFLWR  \\\n",
       "0  2277.251  101.561  335.712  355.080186  816.32676  1990.496  0.0      0.0   \n",
       "1  2310.780  103.601  263.962  368.882894  818.12932  1925.913  0.0      0.0   \n",
       "2  2357.383  127.347  387.458  380.403559  822.39198  2739.836  0.0      0.0   \n",
       "3  2337.247  153.424  271.376  291.225574  611.17560  2661.684  0.0      0.0   \n",
       "4  2336.095  133.415  186.139  364.405310  926.04960  2673.806  0.0      0.0   \n",
       "\n",
       "        JUTE  \n",
       "0  530.96454  \n",
       "1  504.95670  \n",
       "2  700.33716  \n",
       "3  556.20468  \n",
       "4  565.71696  \n",
       "\n",
       "[5 rows x 21 columns]"
      ]
     },
     "execution_count": 35,
     "metadata": {},
     "output_type": "execute_result"
    }
   ],
   "source": [
    "crop_prod_year.head()"
   ]
  },
  {
   "cell_type": "code",
   "execution_count": 63,
   "metadata": {},
   "outputs": [
    {
     "data": {
      "image/png": "[encoded data removed]",
      "text/plain": [
       "<Figure size 360x360 with 2 Axes>"
      ]
     },
     "metadata": {
      "needs_background": "light"
     },
     "output_type": "display_data"
    }
   ],
   "source": [
    "mat3 = np.matrix(crop_prod_year.values[:,1:],dtype='float')\n",
    "# print(mat3.shape)\n",
    "mat3=np.delete(mat3,12,1)\n",
    "# print(mat3.shape)\n",
    "fig = plt.figure(num=3,figsize=(5,5))\n",
    "ax = fig.add_subplot(1,1,1)\n",
    "# ax.set_aspect('equal')\n",
    "ax.set_xticks(np.arange(len(np.delete(crop_prod_year.columns[1:],12))))\n",
    "ax.set_yticks(np.arange(len(crop_prod_year.iloc[:,0])))\n",
    "ax.set_xticklabels(np.delete(crop_prod_year.columns[1:],12),rotation='vertical')\n",
    "ax.set_yticklabels(crop_prod_year.iloc[:,0])\n",
    "plt.imshow(mat3, cmap='Blues')\n",
    "plt.colorbar()\n",
    "plt.title('Crop Production')\n",
    "plt.show()"
   ]
  },
  {
   "cell_type": "code",
   "execution_count": 37,
   "metadata": {},
   "outputs": [
    {
     "data": {
      "text/html": [
       "<div>\n",
       "<style scoped>\n",
       "    .dataframe tbody tr th:only-of-type {\n",
       "        vertical-align: middle;\n",
       "    }\n",
       "\n",
       "    .dataframe tbody tr th {\n",
       "        vertical-align: top;\n",
       "    }\n",
       "\n",
       "    .dataframe thead th {\n",
       "        text-align: right;\n",
       "    }\n",
       "</style>\n",
       "<table border=\"1\" class=\"dataframe\">\n",
       "  <thead>\n",
       "    <tr style=\"text-align: right;\">\n",
       "      <th></th>\n",
       "      <th>YEAR</th>\n",
       "      <th>WHEAT</th>\n",
       "      <th>RICE</th>\n",
       "      <th>MAIZE</th>\n",
       "      <th>JOWAR</th>\n",
       "      <th>BAJRA</th>\n",
       "      <th>SUGAR</th>\n",
       "      <th>POTATO</th>\n",
       "      <th>GNUT</th>\n",
       "      <th>BARLEY</th>\n",
       "      <th>...</th>\n",
       "      <th>GRAM</th>\n",
       "      <th>TUR</th>\n",
       "      <th>RAGI</th>\n",
       "      <th>SESAMUM</th>\n",
       "      <th>RMSEED</th>\n",
       "      <th>COTTON</th>\n",
       "      <th>OPULS</th>\n",
       "      <th>SOY</th>\n",
       "      <th>SUNFLWR</th>\n",
       "      <th>JUTE</th>\n",
       "    </tr>\n",
       "  </thead>\n",
       "  <tbody>\n",
       "    <tr>\n",
       "      <th>0</th>\n",
       "      <td>1956</td>\n",
       "      <td>142.139663</td>\n",
       "      <td>218.379154</td>\n",
       "      <td>154.830737</td>\n",
       "      <td>96.688463</td>\n",
       "      <td>74.567994</td>\n",
       "      <td>932.039639</td>\n",
       "      <td>1277.152929</td>\n",
       "      <td>218.874660</td>\n",
       "      <td>141.521991</td>\n",
       "      <td>...</td>\n",
       "      <td>129.680089</td>\n",
       "      <td>184.054121</td>\n",
       "      <td>13.587052</td>\n",
       "      <td>53.543472</td>\n",
       "      <td>55.100672</td>\n",
       "      <td>19.275587</td>\n",
       "      <td>85.766453</td>\n",
       "      <td>0.0</td>\n",
       "      <td>0.0</td>\n",
       "      <td>83.337570</td>\n",
       "    </tr>\n",
       "    <tr>\n",
       "      <th>1</th>\n",
       "      <td>1957</td>\n",
       "      <td>139.862257</td>\n",
       "      <td>194.720165</td>\n",
       "      <td>142.682246</td>\n",
       "      <td>113.721145</td>\n",
       "      <td>82.210835</td>\n",
       "      <td>946.250554</td>\n",
       "      <td>1246.345073</td>\n",
       "      <td>217.885092</td>\n",
       "      <td>139.974844</td>\n",
       "      <td>...</td>\n",
       "      <td>110.575844</td>\n",
       "      <td>184.840416</td>\n",
       "      <td>11.859708</td>\n",
       "      <td>50.255022</td>\n",
       "      <td>55.880623</td>\n",
       "      <td>18.768086</td>\n",
       "      <td>80.682155</td>\n",
       "      <td>0.0</td>\n",
       "      <td>0.0</td>\n",
       "      <td>73.241272</td>\n",
       "    </tr>\n",
       "    <tr>\n",
       "      <th>2</th>\n",
       "      <td>1958</td>\n",
       "      <td>165.875684</td>\n",
       "      <td>230.494105</td>\n",
       "      <td>167.739962</td>\n",
       "      <td>123.213744</td>\n",
       "      <td>88.798229</td>\n",
       "      <td>976.526417</td>\n",
       "      <td>1320.211813</td>\n",
       "      <td>242.891415</td>\n",
       "      <td>149.543476</td>\n",
       "      <td>...</td>\n",
       "      <td>137.875324</td>\n",
       "      <td>185.804497</td>\n",
       "      <td>13.132560</td>\n",
       "      <td>59.552844</td>\n",
       "      <td>67.812583</td>\n",
       "      <td>18.392946</td>\n",
       "      <td>110.787131</td>\n",
       "      <td>0.0</td>\n",
       "      <td>0.0</td>\n",
       "      <td>83.143390</td>\n",
       "    </tr>\n",
       "    <tr>\n",
       "      <th>3</th>\n",
       "      <td>1959</td>\n",
       "      <td>162.037833</td>\n",
       "      <td>229.635559</td>\n",
       "      <td>168.982956</td>\n",
       "      <td>117.295837</td>\n",
       "      <td>85.409247</td>\n",
       "      <td>979.687464</td>\n",
       "      <td>1325.044479</td>\n",
       "      <td>250.922041</td>\n",
       "      <td>142.864689</td>\n",
       "      <td>...</td>\n",
       "      <td>122.222772</td>\n",
       "      <td>183.805294</td>\n",
       "      <td>14.488696</td>\n",
       "      <td>48.317224</td>\n",
       "      <td>46.815507</td>\n",
       "      <td>17.765593</td>\n",
       "      <td>106.054610</td>\n",
       "      <td>0.0</td>\n",
       "      <td>0.0</td>\n",
       "      <td>82.817122</td>\n",
       "    </tr>\n",
       "    <tr>\n",
       "      <th>4</th>\n",
       "      <td>1960</td>\n",
       "      <td>177.034342</td>\n",
       "      <td>232.637265</td>\n",
       "      <td>176.061540</td>\n",
       "      <td>117.248091</td>\n",
       "      <td>86.372075</td>\n",
       "      <td>1089.761573</td>\n",
       "      <td>1342.382784</td>\n",
       "      <td>189.897089</td>\n",
       "      <td>154.604827</td>\n",
       "      <td>...</td>\n",
       "      <td>134.372115</td>\n",
       "      <td>185.009440</td>\n",
       "      <td>12.806572</td>\n",
       "      <td>43.608872</td>\n",
       "      <td>51.638454</td>\n",
       "      <td>23.710441</td>\n",
       "      <td>108.738404</td>\n",
       "      <td>0.0</td>\n",
       "      <td>0.0</td>\n",
       "      <td>82.321341</td>\n",
       "    </tr>\n",
       "  </tbody>\n",
       "</table>\n",
       "<p>5 rows × 21 columns</p>\n",
       "</div>"
      ],
      "text/plain": [
       "   YEAR       WHEAT        RICE       MAIZE       JOWAR      BAJRA  \\\n",
       "0  1956  142.139663  218.379154  154.830737   96.688463  74.567994   \n",
       "1  1957  139.862257  194.720165  142.682246  113.721145  82.210835   \n",
       "2  1958  165.875684  230.494105  167.739962  123.213744  88.798229   \n",
       "3  1959  162.037833  229.635559  168.982956  117.295837  85.409247   \n",
       "4  1960  177.034342  232.637265  176.061540  117.248091  86.372075   \n",
       "\n",
       "         SUGAR       POTATO        GNUT      BARLEY  ...        GRAM  \\\n",
       "0   932.039639  1277.152929  218.874660  141.521991  ...  129.680089   \n",
       "1   946.250554  1246.345073  217.885092  139.974844  ...  110.575844   \n",
       "2   976.526417  1320.211813  242.891415  149.543476  ...  137.875324   \n",
       "3   979.687464  1325.044479  250.922041  142.864689  ...  122.222772   \n",
       "4  1089.761573  1342.382784  189.897089  154.604827  ...  134.372115   \n",
       "\n",
       "          TUR       RAGI    SESAMUM     RMSEED     COTTON       OPULS  SOY  \\\n",
       "0  184.054121  13.587052  53.543472  55.100672  19.275587   85.766453  0.0   \n",
       "1  184.840416  11.859708  50.255022  55.880623  18.768086   80.682155  0.0   \n",
       "2  185.804497  13.132560  59.552844  67.812583  18.392946  110.787131  0.0   \n",
       "3  183.805294  14.488696  48.317224  46.815507  17.765593  106.054610  0.0   \n",
       "4  185.009440  12.806572  43.608872  51.638454  23.710441  108.738404  0.0   \n",
       "\n",
       "   SUNFLWR       JUTE  \n",
       "0      0.0  83.337570  \n",
       "1      0.0  73.241272  \n",
       "2      0.0  83.143390  \n",
       "3      0.0  82.817122  \n",
       "4      0.0  82.321341  \n",
       "\n",
       "[5 rows x 21 columns]"
      ]
     },
     "execution_count": 37,
     "metadata": {},
     "output_type": "execute_result"
    }
   ],
   "source": [
    "crop_yield_year=pd.read_csv('agri_data_3/yield_year.csv',delimiter=',')\n",
    "crop_yield_year=crop_yield_year.fillna(0)\n",
    "crop_yield_year.head()"
   ]
  },
  {
   "cell_type": "markdown",
   "metadata": {},
   "source": [
    "**Annual Rainfall**"
   ]
  },
  {
   "cell_type": "code",
   "execution_count": 18,
   "metadata": {
    "scrolled": false
   },
   "outputs": [
    {
     "data": {
      "text/html": [
       "<div>\n",
       "<style scoped>\n",
       "    .dataframe tbody tr th:only-of-type {\n",
       "        vertical-align: middle;\n",
       "    }\n",
       "\n",
       "    .dataframe tbody tr th {\n",
       "        vertical-align: top;\n",
       "    }\n",
       "\n",
       "    .dataframe thead th {\n",
       "        text-align: right;\n",
       "    }\n",
       "</style>\n",
       "<table border=\"1\" class=\"dataframe\">\n",
       "  <thead>\n",
       "    <tr style=\"text-align: right;\">\n",
       "      <th></th>\n",
       "      <th>State</th>\n",
       "      <th>YEAR</th>\n",
       "      <th>RNJAN</th>\n",
       "      <th>RNFEB</th>\n",
       "      <th>RNMAR</th>\n",
       "      <th>RNAPR</th>\n",
       "      <th>RNMAY</th>\n",
       "      <th>RNJUN</th>\n",
       "      <th>RNJUL</th>\n",
       "      <th>RNAUG</th>\n",
       "      <th>RNSEP</th>\n",
       "      <th>RNOCT</th>\n",
       "      <th>RNNOV</th>\n",
       "      <th>RNDEC</th>\n",
       "      <th>Annual</th>\n",
       "    </tr>\n",
       "  </thead>\n",
       "  <tbody>\n",
       "    <tr>\n",
       "      <th>0</th>\n",
       "      <td>PUNJAB</td>\n",
       "      <td>1956</td>\n",
       "      <td>21.60</td>\n",
       "      <td>6.80</td>\n",
       "      <td>45.30</td>\n",
       "      <td>5.10</td>\n",
       "      <td>0.70</td>\n",
       "      <td>53.5</td>\n",
       "      <td>236.50</td>\n",
       "      <td>28.70</td>\n",
       "      <td>26.70</td>\n",
       "      <td>14.10</td>\n",
       "      <td>0.20</td>\n",
       "      <td>5.30</td>\n",
       "      <td>444.50</td>\n",
       "    </tr>\n",
       "    <tr>\n",
       "      <th>1</th>\n",
       "      <td>BIHAR</td>\n",
       "      <td>1956</td>\n",
       "      <td>19.20</td>\n",
       "      <td>4.60</td>\n",
       "      <td>9.60</td>\n",
       "      <td>5.30</td>\n",
       "      <td>74.90</td>\n",
       "      <td>319.0</td>\n",
       "      <td>2.70</td>\n",
       "      <td>286.40</td>\n",
       "      <td>36.00</td>\n",
       "      <td>169.00</td>\n",
       "      <td>35.90</td>\n",
       "      <td>8.20</td>\n",
       "      <td>970.80</td>\n",
       "    </tr>\n",
       "    <tr>\n",
       "      <th>2</th>\n",
       "      <td>HARYANA</td>\n",
       "      <td>1956</td>\n",
       "      <td>16.80</td>\n",
       "      <td>3.00</td>\n",
       "      <td>24.80</td>\n",
       "      <td>0.80</td>\n",
       "      <td>2.20</td>\n",
       "      <td>5.7</td>\n",
       "      <td>23.30</td>\n",
       "      <td>161.60</td>\n",
       "      <td>21.50</td>\n",
       "      <td>132.40</td>\n",
       "      <td>4.80</td>\n",
       "      <td>0.60</td>\n",
       "      <td>397.50</td>\n",
       "    </tr>\n",
       "    <tr>\n",
       "      <th>3</th>\n",
       "      <td>MADHYA_PRADESH</td>\n",
       "      <td>1956</td>\n",
       "      <td>8.00</td>\n",
       "      <td>3.15</td>\n",
       "      <td>5.05</td>\n",
       "      <td>1.05</td>\n",
       "      <td>37.50</td>\n",
       "      <td>150.0</td>\n",
       "      <td>468.35</td>\n",
       "      <td>325.35</td>\n",
       "      <td>156.35</td>\n",
       "      <td>84.55</td>\n",
       "      <td>33.25</td>\n",
       "      <td>13.75</td>\n",
       "      <td>1286.35</td>\n",
       "    </tr>\n",
       "    <tr>\n",
       "      <th>4</th>\n",
       "      <td>WEST_BENGAL</td>\n",
       "      <td>1956</td>\n",
       "      <td>9.65</td>\n",
       "      <td>17.65</td>\n",
       "      <td>24.15</td>\n",
       "      <td>95.25</td>\n",
       "      <td>92.25</td>\n",
       "      <td>545.6</td>\n",
       "      <td>362.65</td>\n",
       "      <td>391.10</td>\n",
       "      <td>338.15</td>\n",
       "      <td>186.70</td>\n",
       "      <td>7.90</td>\n",
       "      <td>3.75</td>\n",
       "      <td>2074.80</td>\n",
       "    </tr>\n",
       "  </tbody>\n",
       "</table>\n",
       "</div>"
      ],
      "text/plain": [
       "            State  YEAR  RNJAN  RNFEB  RNMAR  RNAPR  RNMAY  RNJUN   RNJUL  \\\n",
       "0          PUNJAB  1956  21.60   6.80  45.30   5.10   0.70   53.5  236.50   \n",
       "1           BIHAR  1956  19.20   4.60   9.60   5.30  74.90  319.0    2.70   \n",
       "2         HARYANA  1956  16.80   3.00  24.80   0.80   2.20    5.7   23.30   \n",
       "3  MADHYA_PRADESH  1956   8.00   3.15   5.05   1.05  37.50  150.0  468.35   \n",
       "4     WEST_BENGAL  1956   9.65  17.65  24.15  95.25  92.25  545.6  362.65   \n",
       "\n",
       "    RNAUG   RNSEP   RNOCT  RNNOV  RNDEC   Annual  \n",
       "0   28.70   26.70   14.10   0.20   5.30   444.50  \n",
       "1  286.40   36.00  169.00  35.90   8.20   970.80  \n",
       "2  161.60   21.50  132.40   4.80   0.60   397.50  \n",
       "3  325.35  156.35   84.55  33.25  13.75  1286.35  \n",
       "4  391.10  338.15  186.70   7.90   3.75  2074.80  "
      ]
     },
     "execution_count": 18,
     "metadata": {},
     "output_type": "execute_result"
    }
   ],
   "source": [
    "rainfall =  pd.read_csv('agri_data_3/rainfall_no_missing.csv',delimiter=',')\n",
    "rainfall.head()"
   ]
  },
  {
   "cell_type": "code",
   "execution_count": 19,
   "metadata": {},
   "outputs": [],
   "source": [
    "rainfall1=rainfall.copy()\n",
    "rainfall1 = rainfall1.groupby(['State','YEAR'],as_index=True).mean()\n"
   ]
  },
  {
   "cell_type": "code",
   "execution_count": 52,
   "metadata": {
    "scrolled": true
   },
   "outputs": [
    {
     "data": {
      "image/png": "[encoded data removed]",
      "text/plain": [
       "<Figure size 360x360 with 2 Axes>"
      ]
     },
     "metadata": {
      "needs_background": "light"
     },
     "output_type": "display_data"
    }
   ],
   "source": [
    "mat5 = np.matrix(rainfall1.iloc[:,12].unstack(level=-1).reset_index().values[:,1:],dtype='float').T\n",
    "fig = plt.figure(num=5,figsize=(5,5))\n",
    "ax = fig.add_subplot(1,1,1)\n",
    "ax.set_yticks(np.arange(len(rainfall1.iloc[:,12].unstack(level=-1).reset_index().columns[1:])))\n",
    "ax.set_xticks(np.arange(len(rainfall1.iloc[:,12].unstack(level=-1).reset_index().values[:,0])))\n",
    "ax.set_yticklabels(rainfall1.iloc[:,12].unstack(level=-1).reset_index().columns[1:])\n",
    "ax.set_xticklabels(rainfall1.iloc[:,12].unstack(level=-1).reset_index().values[:,0],rotation='vertical')\n",
    "plt.imshow(mat5, cmap='Blues')\n",
    "plt.colorbar()\n",
    "plt.title('Annual Rainfall in mm/sqmt')\n",
    "plt.show()"
   ]
  },
  {
   "cell_type": "code",
   "execution_count": 53,
   "metadata": {},
   "outputs": [],
   "source": [
    "price=crop_price_year.transpose()\n",
    "price.to_csv(r'price.csv')\n",
    "crop_prod2= crop_prod.melt(id_vars=[\"STATENAM\",\"YEAR\"],var_name=\"CROP\",value_name=\"PROD\")\n",
    "crop_prod2.to_csv(r'new_prod.csv')\n",
    "area_cult2= area_cult.melt(id_vars=[\"STATENAM\",\"YEAR\"],var_name=\"CROP\",value_name=\"AREA\")\n",
    "area_cult2.head()"
   ]
  },
  {
   "cell_type": "code",
   "execution_count": 41,
   "metadata": {},
   "outputs": [],
   "source": [
    "area_cult2.to_csv(r'new_area.csv')"
   ]
  },
  {
   "cell_type": "code",
   "execution_count": 42,
   "metadata": {},
   "outputs": [],
   "source": [
    "crop_yield=pd.read_csv('agri_data_3/sum_yield.csv',delimiter=',')\n",
    "crop_yield=crop_yield.fillna(0)\n",
    "# print(crop_prod.dtypes)"
   ]
  },
  {
   "cell_type": "code",
   "execution_count": 56,
   "metadata": {},
   "outputs": [],
   "source": [
    "crop_yield2= area_cult.melt(id_vars=[\"STATENAM\",\"YEAR\"],var_name=\"CROP\",value_name=\"YIELD\")\n",
    "crop_yield2.to_csv(r'new_yield.csv')\n",
    "data = pd.read_csv('data_set.csv')\n"
   ]
  },
  {
   "cell_type": "markdown",
   "metadata": {},
   "source": [
    "## Correlation Between All The Factors For Crop Production\n",
    "\n",
    "This heatmap shows the coorealtion between various factors that affect the crop production. "
   ]
  },
  {
   "cell_type": "code",
   "execution_count": 57,
   "metadata": {},
   "outputs": [
    {
     "data": {
      "text/html": [
       "<div>\n",
       "<style scoped>\n",
       "    .dataframe tbody tr th:only-of-type {\n",
       "        vertical-align: middle;\n",
       "    }\n",
       "\n",
       "    .dataframe tbody tr th {\n",
       "        vertical-align: top;\n",
       "    }\n",
       "\n",
       "    .dataframe thead th {\n",
       "        text-align: right;\n",
       "    }\n",
       "</style>\n",
       "<table border=\"1\" class=\"dataframe\">\n",
       "  <thead>\n",
       "    <tr style=\"text-align: right;\">\n",
       "      <th></th>\n",
       "      <th>YEAR</th>\n",
       "      <th>AREA</th>\n",
       "      <th>PRICE</th>\n",
       "      <th>PROD</th>\n",
       "      <th>YIELD</th>\n",
       "      <th>ANN_RAIN</th>\n",
       "      <th>AVG_TEMP</th>\n",
       "    </tr>\n",
       "  </thead>\n",
       "  <tbody>\n",
       "    <tr>\n",
       "      <th>YEAR</th>\n",
       "      <td>1.000000e+00</td>\n",
       "      <td>0.017297</td>\n",
       "      <td>0.510137</td>\n",
       "      <td>0.096909</td>\n",
       "      <td>0.017297</td>\n",
       "      <td>-0.049956</td>\n",
       "      <td>1.191578e-19</td>\n",
       "    </tr>\n",
       "    <tr>\n",
       "      <th>AREA</th>\n",
       "      <td>1.729740e-02</td>\n",
       "      <td>1.000000</td>\n",
       "      <td>-0.032887</td>\n",
       "      <td>0.790434</td>\n",
       "      <td>1.000000</td>\n",
       "      <td>-0.030226</td>\n",
       "      <td>3.708375e-02</td>\n",
       "    </tr>\n",
       "    <tr>\n",
       "      <th>PRICE</th>\n",
       "      <td>5.101370e-01</td>\n",
       "      <td>-0.032887</td>\n",
       "      <td>1.000000</td>\n",
       "      <td>-0.033362</td>\n",
       "      <td>-0.032887</td>\n",
       "      <td>-0.049312</td>\n",
       "      <td>4.810605e-02</td>\n",
       "    </tr>\n",
       "    <tr>\n",
       "      <th>PROD</th>\n",
       "      <td>9.690864e-02</td>\n",
       "      <td>0.790434</td>\n",
       "      <td>-0.033362</td>\n",
       "      <td>1.000000</td>\n",
       "      <td>0.790434</td>\n",
       "      <td>-0.003255</td>\n",
       "      <td>-5.404658e-02</td>\n",
       "    </tr>\n",
       "    <tr>\n",
       "      <th>YIELD</th>\n",
       "      <td>1.729740e-02</td>\n",
       "      <td>1.000000</td>\n",
       "      <td>-0.032887</td>\n",
       "      <td>0.790434</td>\n",
       "      <td>1.000000</td>\n",
       "      <td>-0.030226</td>\n",
       "      <td>3.708375e-02</td>\n",
       "    </tr>\n",
       "    <tr>\n",
       "      <th>ANN_RAIN</th>\n",
       "      <td>-4.995619e-02</td>\n",
       "      <td>-0.030226</td>\n",
       "      <td>-0.049312</td>\n",
       "      <td>-0.003255</td>\n",
       "      <td>-0.030226</td>\n",
       "      <td>1.000000</td>\n",
       "      <td>2.317707e-01</td>\n",
       "    </tr>\n",
       "    <tr>\n",
       "      <th>AVG_TEMP</th>\n",
       "      <td>1.191578e-19</td>\n",
       "      <td>0.037084</td>\n",
       "      <td>0.048106</td>\n",
       "      <td>-0.054047</td>\n",
       "      <td>0.037084</td>\n",
       "      <td>0.231771</td>\n",
       "      <td>1.000000e+00</td>\n",
       "    </tr>\n",
       "  </tbody>\n",
       "</table>\n",
       "</div>"
      ],
      "text/plain": [
       "                  YEAR      AREA     PRICE      PROD     YIELD  ANN_RAIN  \\\n",
       "YEAR      1.000000e+00  0.017297  0.510137  0.096909  0.017297 -0.049956   \n",
       "AREA      1.729740e-02  1.000000 -0.032887  0.790434  1.000000 -0.030226   \n",
       "PRICE     5.101370e-01 -0.032887  1.000000 -0.033362 -0.032887 -0.049312   \n",
       "PROD      9.690864e-02  0.790434 -0.033362  1.000000  0.790434 -0.003255   \n",
       "YIELD     1.729740e-02  1.000000 -0.032887  0.790434  1.000000 -0.030226   \n",
       "ANN_RAIN -4.995619e-02 -0.030226 -0.049312 -0.003255 -0.030226  1.000000   \n",
       "AVG_TEMP  1.191578e-19  0.037084  0.048106 -0.054047  0.037084  0.231771   \n",
       "\n",
       "              AVG_TEMP  \n",
       "YEAR      1.191578e-19  \n",
       "AREA      3.708375e-02  \n",
       "PRICE     4.810605e-02  \n",
       "PROD     -5.404658e-02  \n",
       "YIELD     3.708375e-02  \n",
       "ANN_RAIN  2.317707e-01  \n",
       "AVG_TEMP  1.000000e+00  "
      ]
     },
     "execution_count": 57,
     "metadata": {},
     "output_type": "execute_result"
    }
   ],
   "source": [
    "vals = data.corr()\n",
    "vals"
   ]
  },
  {
   "cell_type": "code",
   "execution_count": 58,
   "metadata": {},
   "outputs": [
    {
     "data": {
      "image/png": "[encoded data removed]",
      "text/plain": [
       "<Figure size 576x432 with 2 Axes>"
      ]
     },
     "metadata": {
      "needs_background": "light"
     },
     "output_type": "display_data"
    },
    {
     "data": {
      "text/plain": [
       "<Figure size 432x288 with 0 Axes>"
      ]
     },
     "metadata": {},
     "output_type": "display_data"
    }
   ],
   "source": [
    "fig=mplot.figure(figsize=(8,6))\n",
    "mplot.imshow(vals.values)\n",
    "mplot.colorbar()\n",
    "mplot.show()\n",
    "mplot.savefig('corr.png')"
   ]
  },
  {
   "cell_type": "markdown",
   "metadata": {},
   "source": [
    "## Rainfall prediction\n",
    "We have rainfall data on all the states for 12 months. This data is from 1956 to 1986. We are trying to predict the rainfall just by previous year data. \n",
    "Linear regression is the most basic form of regression which takes a single value and predicts next values. \n",
    "Since, our data is non-linear the regression model didn't work for us. The score for prediction was 0.0017. \n",
    "\n",
    "We decided to do time-series analysis on our model using ARIMA model (Auto-regressive integrated moving average).  Advatanges of using this model are that it takes into account the growth or decline in the data and the rate of change of data. \n",
    "It generates a sign wave form.  \n",
    "y(t)=A∗sin(2∗π∗f∗t+ϕ) \n",
    "\n",
    "As you can see from the superimposed plot that the predictions are closly related to the actual value of the plot. We get a standard error of 131.248. \n"
   ]
  },
  {
   "cell_type": "code",
   "execution_count": 126,
   "metadata": {},
   "outputs": [],
   "source": [
    "\n",
    "for param in pdq:\n",
    "    for param_seasonal in seasonal_pdq:\n",
    "        try:\n",
    "            mod = sm.tsa.statespace.SARIMAX(new_a2,\n",
    "                                            order=param,\n",
    "                                            seasonal_order=param_seasonal,\n",
    "                                            enforce_stationarity=False,\n",
    "                                            enforce_invertibility=False)\n",
    "\n",
    "            results = mod.fit()\n",
    "\n",
    "            print('ARIMA{}x{}12 - AIC:{}'.format(param, param_seasonal, results.aic))\n",
    "        except:\n",
    "            continue"
   ]
  },
  {
   "cell_type": "code",
   "execution_count": 127,
   "metadata": {},
   "outputs": [
    {
     "name": "stdout",
     "output_type": "stream",
     "text": [
      "==============================================================================\n",
      "                 coef    std err          z      P>|z|      [0.025      0.975]\n",
      "------------------------------------------------------------------------------\n",
      "ar.L1          0.1400      0.049      2.884      0.004       0.045       0.235\n",
      "ma.L1         -0.8868      0.027    -33.356      0.000      -0.939      -0.835\n",
      "ar.S.L12       0.0016      0.047      0.034      0.973      -0.091       0.094\n",
      "ma.S.L12      -0.9349      0.040    -23.143      0.000      -1.014      -0.856\n",
      "sigma2      1918.5184    131.248     14.617      0.000    1661.276    2175.761\n",
      "==============================================================================\n"
     ]
    }
   ],
   "source": [
    "import statsmodels.api as sm\n",
    "mod = sm.tsa.statespace.SARIMAX(new_a2,\n",
    "                                order=(1, 1, 1),\n",
    "                                seasonal_order=(1, 1, 1, 12),\n",
    "                                enforce_stationarity=False,\n",
    "                                enforce_invertibility=False)\n",
    "\n",
    "results = mod.fit()\n",
    "\n",
    "print(results.summary().tables[1])"
   ]
  },
  {
   "cell_type": "code",
   "execution_count": 128,
   "metadata": {
    "scrolled": false
   },
   "outputs": [
    {
     "data": {
      "image/png": "[encoded data removed]",
      "text/plain": [
       "<Figure size 1080x864 with 4 Axes>"
      ]
     },
     "metadata": {},
     "output_type": "display_data"
    }
   ],
   "source": [
    "results.plot_diagnostics(figsize=(15, 12))\n",
    "plt.show()"
   ]
  },
  {
   "cell_type": "code",
   "execution_count": 129,
   "metadata": {},
   "outputs": [],
   "source": [
    "pred = results.get_prediction(start=pd.to_datetime('1976-01-01'), dynamic=False)\n",
    "pred_ci = pred.conf_int()"
   ]
  },
  {
   "cell_type": "code",
   "execution_count": 130,
   "metadata": {},
   "outputs": [
    {
     "data": {
      "image/png": "[encoded data removed]",
      "text/plain": [
       "<Figure size 1080x432 with 1 Axes>"
      ]
     },
     "metadata": {},
     "output_type": "display_data"
    }
   ],
   "source": [
    "ax = new_a2['1976-01-01':'1986-01-01'].plot(label='observed', figsize=(15,6))\n",
    "pred.predicted_mean.plot(ax=ax, label='Given Rainfall', alpha=.7)\n",
    "\n",
    "ax.fill_between(pred_ci.index,\n",
    "                pred_ci.iloc[:, 0],\n",
    "                pred_ci.iloc[:, 1], color='k', alpha = 0)\n",
    "\n",
    "ax.set_xlabel('Date')\n",
    "ax.set_ylabel('Rainfall')\n",
    "plt.legend()\n",
    "\n",
    "plt.show()"
   ]
  },
  {
   "cell_type": "markdown",
   "metadata": {
    "colab_type": "text",
    "id": "egi6AQnjiKvg"
   },
   "source": [
    "### We created a dataframe called `wheat_df` which has the columns `YEAR` and `WHEAT` which signify the year and the wheat grown in that year respectively."
   ]
  },
  {
   "cell_type": "code",
   "execution_count": 109,
   "metadata": {
    "colab": {
     "base_uri": "https://localhost:8080/",
     "height": 206
    },
    "colab_type": "code",
    "id": "PlLKfK9vjXV2",
    "outputId": "5c5f13c0-e8a2-4408-9708-0c0fbfcd3f5f",
    "scrolled": false
   },
   "outputs": [
    {
     "data": {
      "text/html": [
       "<div>\n",
       "<style scoped>\n",
       "    .dataframe tbody tr th:only-of-type {\n",
       "        vertical-align: middle;\n",
       "    }\n",
       "\n",
       "    .dataframe tbody tr th {\n",
       "        vertical-align: top;\n",
       "    }\n",
       "\n",
       "    .dataframe thead th {\n",
       "        text-align: right;\n",
       "    }\n",
       "</style>\n",
       "<table border=\"1\" class=\"dataframe\">\n",
       "  <thead>\n",
       "    <tr style=\"text-align: right;\">\n",
       "      <th></th>\n",
       "      <th>YEAR</th>\n",
       "      <th>WHEAT</th>\n",
       "    </tr>\n",
       "  </thead>\n",
       "  <tbody>\n",
       "    <tr>\n",
       "      <th>0</th>\n",
       "      <td>1956</td>\n",
       "      <td>43.187258</td>\n",
       "    </tr>\n",
       "    <tr>\n",
       "      <th>1</th>\n",
       "      <td>1957</td>\n",
       "      <td>42.979839</td>\n",
       "    </tr>\n",
       "    <tr>\n",
       "      <th>2</th>\n",
       "      <td>1958</td>\n",
       "      <td>48.813222</td>\n",
       "    </tr>\n",
       "    <tr>\n",
       "      <th>3</th>\n",
       "      <td>1959</td>\n",
       "      <td>46.862000</td>\n",
       "    </tr>\n",
       "    <tr>\n",
       "      <th>4</th>\n",
       "      <td>1960</td>\n",
       "      <td>45.090633</td>\n",
       "    </tr>\n",
       "  </tbody>\n",
       "</table>\n",
       "</div>"
      ],
      "text/plain": [
       "   YEAR      WHEAT\n",
       "0  1956  43.187258\n",
       "1  1957  42.979839\n",
       "2  1958  48.813222\n",
       "3  1959  46.862000\n",
       "4  1960  45.090633"
      ]
     },
     "execution_count": 109,
     "metadata": {
      "tags": []
     },
     "output_type": "execute_result"
    }
   ],
   "source": [
    "wheat_df = df[[\"YEAR\", \"WHEAT\"]]\n",
    "wheat_df.head()"
   ]
  },
  {
   "cell_type": "markdown",
   "metadata": {
    "colab_type": "text",
    "id": "2F6Y1d99jRzx"
   },
   "source": [
    "#### We tried to use various methods to predict the growth of wheat. The first method we tried was using Linear Regression. We used the first 20 data points ranging from year `1956` to `1977` as our training data and we used the remaining data to check whether the predictions are correct or not.\n",
    "\n",
    "#### We splitted the `wheat_df` dataframe into `X_train`, `X_test`, `y_train` and `y_test`."
   ]
  },
  {
   "cell_type": "code",
   "execution_count": 0,
   "metadata": {
    "colab": {},
    "colab_type": "code",
    "id": "a99uxSiMSwKt"
   },
   "outputs": [],
   "source": [
    "X = np.array(wheat_df[\"YEAR\"])\n",
    "y = np.array(wheat_df[\"WHEAT\"])\n",
    "X_train = X[:-10]\n",
    "X_test = X[-10:]\n",
    "y_train = y[:-10]\n",
    "y_test = y[-10:]"
   ]
  },
  {
   "cell_type": "code",
   "execution_count": 217,
   "metadata": {
    "colab": {
     "base_uri": "https://localhost:8080/",
     "height": 52
    },
    "colab_type": "code",
    "id": "54GvX8ljjwKx",
    "outputId": "d0f2b881-e533-43fe-98a5-d6edc7865b5d",
    "scrolled": true
   },
   "outputs": [
    {
     "data": {
      "text/plain": [
       "array([1956, 1957, 1958, 1959, 1960, 1961, 1962, 1963, 1964, 1965, 1966,\n",
       "       1967, 1968, 1969, 1970, 1971, 1972, 1973, 1974, 1975, 1976, 1977])"
      ]
     },
     "execution_count": 217,
     "metadata": {
      "tags": []
     },
     "output_type": "execute_result"
    }
   ],
   "source": [
    "X_train"
   ]
  },
  {
   "cell_type": "code",
   "execution_count": 105,
   "metadata": {
    "colab": {
     "base_uri": "https://localhost:8080/",
     "height": 34
    },
    "colab_type": "code",
    "id": "-Ao5a8DuUHee",
    "outputId": "33d35dbe-4c4f-44c4-c17c-0639d2c32817",
    "scrolled": true
   },
   "outputs": [
    {
     "data": {
      "text/plain": [
       "array([1978, 1979, 1980, 1981, 1982, 1983, 1984, 1985, 1986, 1987])"
      ]
     },
     "execution_count": 105,
     "metadata": {
      "tags": []
     },
     "output_type": "execute_result"
    }
   ],
   "source": [
    "X_test"
   ]
  },
  {
   "cell_type": "markdown",
   "metadata": {
    "colab_type": "text",
    "id": "WVqiCMj_kjT7"
   },
   "source": [
    "We reshaped the data to arrange all the data points into a single row. We used reshape(-1, 1) to do so."
   ]
  },
  {
   "cell_type": "code",
   "execution_count": 0,
   "metadata": {
    "colab": {},
    "colab_type": "code",
    "id": "OvbyMyR5kiW6"
   },
   "outputs": [],
   "source": [
    "X = X.reshape(-1, 1)\n",
    "X_train = X_train.reshape(-1, 1)\n",
    "X_test = X_test.reshape(-1, 1)"
   ]
  },
  {
   "cell_type": "markdown",
   "metadata": {
    "colab_type": "text",
    "id": "z36M2zUNkvmy"
   },
   "source": [
    "We created a new Linear Regression using the `LR()` function found in `sklearn.linear_model` and stored it to `reg`. We then used the training datasets `X_train` and `y_train` to train our Linear Regression model. We then tried to predict the wheat grown in the year `1987` using the Linear Regression model and compared it with the real wheat growth value found in our `y_test` test data."
   ]
  },
  {
   "cell_type": "code",
   "execution_count": 223,
   "metadata": {
    "colab": {
     "base_uri": "https://localhost:8080/",
     "height": 52
    },
    "colab_type": "code",
    "id": "isv6lHfajaVA",
    "outputId": "7b6f769a-b13b-4bda-c42e-764f597b5c1d"
   },
   "outputs": [
    {
     "name": "stdout",
     "output_type": "stream",
     "text": [
      "198.81202099239817\n",
      "215.17455619999998\n"
     ]
    }
   ],
   "source": [
    "reg = LR()\n",
    "reg.fit(X_train, y_train)\n",
    "reg_1987 = reg.predict(np.array([1987]).reshape(1,-1))[0]\n",
    "real_1987 = y_test[1987 - X_test[0]][0]\n",
    "print(reg_1987)\n",
    "print(real_1987)"
   ]
  },
  {
   "cell_type": "markdown",
   "metadata": {
    "colab_type": "text",
    "id": "FT_x6r7Cl1tb"
   },
   "source": [
    "The result was pretty satisfactory considering the training data. We can see the percentage difference in the cell below.\n"
   ]
  },
  {
   "cell_type": "code",
   "execution_count": 224,
   "metadata": {
    "colab": {
     "base_uri": "https://localhost:8080/",
     "height": 34
    },
    "colab_type": "code",
    "id": "KuTEU0FVl0cQ",
    "outputId": "4f1be537-15be-4364-f8a0-e0cc093b6fc4"
   },
   "outputs": [
    {
     "data": {
      "text/plain": [
       "0.16362535207601808"
      ]
     },
     "execution_count": 224,
     "metadata": {
      "tags": []
     },
     "output_type": "execute_result"
    }
   ],
   "source": [
    "abs(real_1987 - reg_1987)/100"
   ]
  },
  {
   "cell_type": "markdown",
   "metadata": {
    "colab_type": "text",
    "id": "iPIyL4H4lj1s"
   },
   "source": [
    "However, we realized that using a Linear Regression Model is not the best way to go. This is because Linear Regression does not take patterns into account and will give unidirectional results only. For example, if the model calculates that the training data's values are always going up on average, it will predict in a similar way, never dipping now.\n",
    "\n",
    "Because of this, we tried using the decision trees as they might give more accurate results."
   ]
  },
  {
   "cell_type": "markdown",
   "metadata": {
    "colab_type": "text",
    "id": "L92fB-vPoDO9"
   },
   "source": [
    "We use the `DecisionTreeRegressor` from `sklearn.tree`. We use the `fit()` function to train the Decision Tree model using the `X_train` and `y_train` data. Like before, we try to predict the wheat grown for the year `1987` but use the `dtree` instead of `reg`. We then print the predicted value as well as the real value."
   ]
  },
  {
   "cell_type": "code",
   "execution_count": 230,
   "metadata": {
    "colab": {
     "base_uri": "https://localhost:8080/",
     "height": 52
    },
    "colab_type": "code",
    "id": "sn-ZfyQYjdPG",
    "outputId": "ea92c481-5750-4bf9-8c05-10b027e46357"
   },
   "outputs": [
    {
     "name": "stdout",
     "output_type": "stream",
     "text": [
      "135.39034750000002\n",
      "215.17455619999998\n"
     ]
    }
   ],
   "source": [
    "dtree = scart()\n",
    "dtree.fit(X_train, y_train)\n",
    "dtree_1987 = dtree.predict(np.array([1987]).reshape(1,-1))[0]\n",
    "print(dtree_1987)\n",
    "print(real_1987)"
   ]
  },
  {
   "cell_type": "markdown",
   "metadata": {
    "colab_type": "text",
    "id": "RN83qJompKUy"
   },
   "source": [
    "We can see that the outputs are not as expected. We figured out that the samples, the training and the test data were major factors in giving accurate predictions using Decision trees. To get a fair analysis. We did this test numerous times with different samples and training:test ratios."
   ]
  },
  {
   "cell_type": "code",
   "execution_count": 231,
   "metadata": {
    "colab": {
     "base_uri": "https://localhost:8080/",
     "height": 34
    },
    "colab_type": "code",
    "id": "ABqMa7q2o13y",
    "outputId": "4acb7d34-ca44-4dcd-b3e1-62d69f2b3b07"
   },
   "outputs": [
    {
     "data": {
      "text/plain": [
       "0.7978420869999997"
      ]
     },
     "execution_count": 231,
     "metadata": {
      "tags": []
     },
     "output_type": "execute_result"
    }
   ],
   "source": [
    "abs(real_1987 - dtree_1987)/100"
   ]
  },
  {
   "cell_type": "code",
   "execution_count": 108,
   "metadata": {
    "colab": {
     "base_uri": "https://localhost:8080/",
     "height": 1000
    },
    "colab_type": "code",
    "id": "Eq-5KV5XwtVb",
    "outputId": "b5305613-a291-4348-b2de-ebc8046c3d04",
    "scrolled": true
   },
   "outputs": [
    {
     "data": {
      "text/html": [
       "<div>\n",
       "<style scoped>\n",
       "    .dataframe tbody tr th:only-of-type {\n",
       "        vertical-align: middle;\n",
       "    }\n",
       "\n",
       "    .dataframe tbody tr th {\n",
       "        vertical-align: top;\n",
       "    }\n",
       "\n",
       "    .dataframe thead th {\n",
       "        text-align: right;\n",
       "    }\n",
       "</style>\n",
       "<table border=\"1\" class=\"dataframe\">\n",
       "  <thead>\n",
       "    <tr style=\"text-align: right;\">\n",
       "      <th></th>\n",
       "      <th>YEAR</th>\n",
       "      <th>WHEAT</th>\n",
       "    </tr>\n",
       "  </thead>\n",
       "  <tbody>\n",
       "    <tr>\n",
       "      <th>0</th>\n",
       "      <td>1956</td>\n",
       "      <td>43.187258</td>\n",
       "    </tr>\n",
       "    <tr>\n",
       "      <th>1</th>\n",
       "      <td>1957</td>\n",
       "      <td>42.979839</td>\n",
       "    </tr>\n",
       "    <tr>\n",
       "      <th>2</th>\n",
       "      <td>1958</td>\n",
       "      <td>48.813222</td>\n",
       "    </tr>\n",
       "    <tr>\n",
       "      <th>3</th>\n",
       "      <td>1959</td>\n",
       "      <td>46.862000</td>\n",
       "    </tr>\n",
       "    <tr>\n",
       "      <th>4</th>\n",
       "      <td>1960</td>\n",
       "      <td>45.090633</td>\n",
       "    </tr>\n",
       "    <tr>\n",
       "      <th>5</th>\n",
       "      <td>1961</td>\n",
       "      <td>46.742005</td>\n",
       "    </tr>\n",
       "    <tr>\n",
       "      <th>6</th>\n",
       "      <td>1962</td>\n",
       "      <td>47.420532</td>\n",
       "    </tr>\n",
       "    <tr>\n",
       "      <th>7</th>\n",
       "      <td>1963</td>\n",
       "      <td>57.210559</td>\n",
       "    </tr>\n",
       "    <tr>\n",
       "      <th>8</th>\n",
       "      <td>1964</td>\n",
       "      <td>70.005913</td>\n",
       "    </tr>\n",
       "    <tr>\n",
       "      <th>9</th>\n",
       "      <td>1965</td>\n",
       "      <td>87.460120</td>\n",
       "    </tr>\n",
       "    <tr>\n",
       "      <th>10</th>\n",
       "      <td>1966</td>\n",
       "      <td>107.449695</td>\n",
       "    </tr>\n",
       "    <tr>\n",
       "      <th>11</th>\n",
       "      <td>1967</td>\n",
       "      <td>99.224947</td>\n",
       "    </tr>\n",
       "    <tr>\n",
       "      <th>12</th>\n",
       "      <td>1968</td>\n",
       "      <td>94.562012</td>\n",
       "    </tr>\n",
       "    <tr>\n",
       "      <th>13</th>\n",
       "      <td>1969</td>\n",
       "      <td>93.823561</td>\n",
       "    </tr>\n",
       "    <tr>\n",
       "      <th>14</th>\n",
       "      <td>1970</td>\n",
       "      <td>88.835663</td>\n",
       "    </tr>\n",
       "    <tr>\n",
       "      <th>15</th>\n",
       "      <td>1971</td>\n",
       "      <td>89.867726</td>\n",
       "    </tr>\n",
       "    <tr>\n",
       "      <th>16</th>\n",
       "      <td>1972</td>\n",
       "      <td>110.639314</td>\n",
       "    </tr>\n",
       "    <tr>\n",
       "      <th>17</th>\n",
       "      <td>1973</td>\n",
       "      <td>164.628104</td>\n",
       "    </tr>\n",
       "    <tr>\n",
       "      <th>18</th>\n",
       "      <td>1974</td>\n",
       "      <td>157.777149</td>\n",
       "    </tr>\n",
       "    <tr>\n",
       "      <th>19</th>\n",
       "      <td>1975</td>\n",
       "      <td>120.822657</td>\n",
       "    </tr>\n",
       "    <tr>\n",
       "      <th>20</th>\n",
       "      <td>1976</td>\n",
       "      <td>135.731906</td>\n",
       "    </tr>\n",
       "    <tr>\n",
       "      <th>21</th>\n",
       "      <td>1977</td>\n",
       "      <td>135.390348</td>\n",
       "    </tr>\n",
       "    <tr>\n",
       "      <th>22</th>\n",
       "      <td>1978</td>\n",
       "      <td>134.060697</td>\n",
       "    </tr>\n",
       "    <tr>\n",
       "      <th>23</th>\n",
       "      <td>1979</td>\n",
       "      <td>149.230603</td>\n",
       "    </tr>\n",
       "    <tr>\n",
       "      <th>24</th>\n",
       "      <td>1980</td>\n",
       "      <td>176.943972</td>\n",
       "    </tr>\n",
       "    <tr>\n",
       "      <th>25</th>\n",
       "      <td>1981</td>\n",
       "      <td>185.619414</td>\n",
       "    </tr>\n",
       "    <tr>\n",
       "      <th>26</th>\n",
       "      <td>1982</td>\n",
       "      <td>211.000164</td>\n",
       "    </tr>\n",
       "    <tr>\n",
       "      <th>27</th>\n",
       "      <td>1983</td>\n",
       "      <td>195.560545</td>\n",
       "    </tr>\n",
       "    <tr>\n",
       "      <th>28</th>\n",
       "      <td>1984</td>\n",
       "      <td>182.584921</td>\n",
       "    </tr>\n",
       "    <tr>\n",
       "      <th>29</th>\n",
       "      <td>1985</td>\n",
       "      <td>203.533868</td>\n",
       "    </tr>\n",
       "    <tr>\n",
       "      <th>30</th>\n",
       "      <td>1986</td>\n",
       "      <td>212.144970</td>\n",
       "    </tr>\n",
       "    <tr>\n",
       "      <th>31</th>\n",
       "      <td>1987</td>\n",
       "      <td>215.174556</td>\n",
       "    </tr>\n",
       "  </tbody>\n",
       "</table>\n",
       "</div>"
      ],
      "text/plain": [
       "    YEAR       WHEAT\n",
       "0   1956   43.187258\n",
       "1   1957   42.979839\n",
       "2   1958   48.813222\n",
       "3   1959   46.862000\n",
       "4   1960   45.090633\n",
       "5   1961   46.742005\n",
       "6   1962   47.420532\n",
       "7   1963   57.210559\n",
       "8   1964   70.005913\n",
       "9   1965   87.460120\n",
       "10  1966  107.449695\n",
       "11  1967   99.224947\n",
       "12  1968   94.562012\n",
       "13  1969   93.823561\n",
       "14  1970   88.835663\n",
       "15  1971   89.867726\n",
       "16  1972  110.639314\n",
       "17  1973  164.628104\n",
       "18  1974  157.777149\n",
       "19  1975  120.822657\n",
       "20  1976  135.731906\n",
       "21  1977  135.390348\n",
       "22  1978  134.060697\n",
       "23  1979  149.230603\n",
       "24  1980  176.943972\n",
       "25  1981  185.619414\n",
       "26  1982  211.000164\n",
       "27  1983  195.560545\n",
       "28  1984  182.584921\n",
       "29  1985  203.533868\n",
       "30  1986  212.144970\n",
       "31  1987  215.174556"
      ]
     },
     "execution_count": 108,
     "metadata": {
      "tags": []
     },
     "output_type": "execute_result"
    }
   ],
   "source": [
    "wheat_df"
   ]
  },
  {
   "cell_type": "markdown",
   "metadata": {
    "colab_type": "text",
    "id": "UEdtisLzpuW2"
   },
   "source": [
    "The scores are shown below, the `dtree` score is significantly lesser than the `reg` score."
   ]
  },
  {
   "cell_type": "code",
   "execution_count": 232,
   "metadata": {
    "colab": {
     "base_uri": "https://localhost:8080/",
     "height": 34
    },
    "colab_type": "code",
    "id": "R25uoDVXbBsN",
    "outputId": "31eb6ff7-fe2e-40d6-ee7f-5f6c8a88cd48"
   },
   "outputs": [
    {
     "data": {
      "text/plain": [
       "0.4532576976736124"
      ]
     },
     "execution_count": 232,
     "metadata": {
      "tags": []
     },
     "output_type": "execute_result"
    }
   ],
   "source": [
    "reg.score(X_test,y_test)"
   ]
  },
  {
   "cell_type": "code",
   "execution_count": 233,
   "metadata": {
    "colab": {
     "base_uri": "https://localhost:8080/",
     "height": 34
    },
    "colab_type": "code",
    "id": "DZ4VPkGXZf55",
    "outputId": "83f76f11-b96f-4d96-d5f8-af6ebfd09cec"
   },
   "outputs": [
    {
     "data": {
      "text/plain": [
       "-3.9126333861424527"
      ]
     },
     "execution_count": 233,
     "metadata": {
      "tags": []
     },
     "output_type": "execute_result"
    }
   ],
   "source": [
    "dtree.score(X_test, y_test)"
   ]
  },
  {
   "cell_type": "markdown",
   "metadata": {
    "colab_type": "text",
    "id": "EpeCnzjop_OF"
   },
   "source": [
    "Our first prototype for improving the outputs is given below. Here we use the `train_test_split()` function found in `sklearn.model_selection` to get random samples to test and train our models."
   ]
  },
  {
   "cell_type": "code",
   "execution_count": 0,
   "metadata": {
    "colab": {},
    "colab_type": "code",
    "id": "ADSqa710cnZG"
   },
   "outputs": [],
   "source": [
    "#import sklearn.model_selection.train_test_split\n",
    "from sklearn.model_selection import train_test_split\n",
    "\n",
    "X_train, X_test, y_train, y_test = train_test_split( \n",
    "          X, y, test_size = 0.25, random_state = 100)"
   ]
  },
  {
   "cell_type": "markdown",
   "metadata": {
    "colab_type": "text",
    "id": "EofcegcBqQwN"
   },
   "source": [
    "The output received below is much better. We then ran the procedure several times to be sure."
   ]
  },
  {
   "cell_type": "code",
   "execution_count": 245,
   "metadata": {
    "colab": {
     "base_uri": "https://localhost:8080/",
     "height": 34
    },
    "colab_type": "code",
    "id": "_A9btYNVc0Il",
    "outputId": "e39b6484-a3cb-4b42-f70a-01947bab555c"
   },
   "outputs": [
    {
     "name": "stdout",
     "output_type": "stream",
     "text": [
      "205.17241368856412\n"
     ]
    }
   ],
   "source": [
    "reg = LR()\n",
    "reg.fit(X_train,y_train)\n",
    "print(reg.predict(np.array([1987]).reshape(1,-1))[0])\n",
    "#print(y_test[1987 - X_test[0]][0])"
   ]
  },
  {
   "cell_type": "code",
   "execution_count": 246,
   "metadata": {
    "colab": {
     "base_uri": "https://localhost:8080/",
     "height": 34
    },
    "colab_type": "code",
    "id": "Lu_nyUl-dv-I",
    "outputId": "5aaf83be-ddef-46de-bdf6-03154f4ce739"
   },
   "outputs": [
    {
     "name": "stdout",
     "output_type": "stream",
     "text": [
      "215.17455619999998\n"
     ]
    }
   ],
   "source": [
    "dtree = scart()\n",
    "dtree.fit(X_train, y_train)\n",
    "print(dtree.predict(np.array([1987]).reshape(1,-1))[0])\n",
    "#print(y_test[1987 - X_test[0]][0])"
   ]
  },
  {
   "cell_type": "code",
   "execution_count": 247,
   "metadata": {
    "colab": {
     "base_uri": "https://localhost:8080/",
     "height": 81
    },
    "colab_type": "code",
    "id": "1E0B3HVsdznB",
    "outputId": "bebfb24b-d57b-494f-966c-c74739f3d42d"
   },
   "outputs": [
    {
     "data": {
      "text/html": [
       "<div>\n",
       "<style scoped>\n",
       "    .dataframe tbody tr th:only-of-type {\n",
       "        vertical-align: middle;\n",
       "    }\n",
       "\n",
       "    .dataframe tbody tr th {\n",
       "        vertical-align: top;\n",
       "    }\n",
       "\n",
       "    .dataframe thead th {\n",
       "        text-align: right;\n",
       "    }\n",
       "</style>\n",
       "<table border=\"1\" class=\"dataframe\">\n",
       "  <thead>\n",
       "    <tr style=\"text-align: right;\">\n",
       "      <th></th>\n",
       "      <th>YEAR</th>\n",
       "      <th>WHEAT</th>\n",
       "    </tr>\n",
       "  </thead>\n",
       "  <tbody>\n",
       "    <tr>\n",
       "      <th>31</th>\n",
       "      <td>1987</td>\n",
       "      <td>215.174556</td>\n",
       "    </tr>\n",
       "  </tbody>\n",
       "</table>\n",
       "</div>"
      ],
      "text/plain": [
       "    YEAR       WHEAT\n",
       "31  1987  215.174556"
      ]
     },
     "execution_count": 247,
     "metadata": {
      "tags": []
     },
     "output_type": "execute_result"
    }
   ],
   "source": [
    "wheat_df[wheat_df[\"YEAR\"] == 1987]"
   ]
  },
  {
   "cell_type": "code",
   "execution_count": 238,
   "metadata": {
    "colab": {
     "base_uri": "https://localhost:8080/",
     "height": 34
    },
    "colab_type": "code",
    "id": "y41Xf6npeca7",
    "outputId": "c6616014-1818-4246-abc0-1eb0ff2fda96"
   },
   "outputs": [
    {
     "data": {
      "text/plain": [
       "0.87551060858414"
      ]
     },
     "execution_count": 238,
     "metadata": {
      "tags": []
     },
     "output_type": "execute_result"
    }
   ],
   "source": [
    "reg.score(X_test,y_test)"
   ]
  },
  {
   "cell_type": "code",
   "execution_count": 239,
   "metadata": {
    "colab": {
     "base_uri": "https://localhost:8080/",
     "height": 34
    },
    "colab_type": "code",
    "id": "ICd50vnsegbW",
    "outputId": "c8a0b199-bf3e-435e-dd1e-d79df357d502"
   },
   "outputs": [
    {
     "data": {
      "text/plain": [
       "0.8385247870034318"
      ]
     },
     "execution_count": 239,
     "metadata": {
      "tags": []
     },
     "output_type": "execute_result"
    }
   ],
   "source": [
    "dtree.score(X_test, y_test)"
   ]
  },
  {
   "cell_type": "markdown",
   "metadata": {
    "colab_type": "text",
    "id": "oHzj7stFqi9J"
   },
   "source": [
    "Given below is our code using 9 different variants of our samples `X` and `y`. We change the `test_size` (ratio between training and test data) in each iteration. We've used the `random_state` attribute for `train_test_split()` too. We append the scores to lists `reg_scores` and `dtree_scores` and plot them using `matplotlib.plt`."
   ]
  },
  {
   "cell_type": "code",
   "execution_count": 0,
   "metadata": {
    "colab": {},
    "colab_type": "code",
    "id": "--QbBsDee4v2"
   },
   "outputs": [],
   "source": [
    "from sklearn.model_selection import train_test_split\n",
    "\n",
    "reg_scores = []\n",
    "dtree_scores = []\n",
    "for i in range(1, 10):\n",
    "  X_train, X_test, y_train, y_test = train_test_split( \n",
    "          X, y, test_size = i  * 0.09, random_state = 1000)\n",
    "  reg = LR()\n",
    "  reg.fit(X_train,y_train)\n",
    "  dtree = scart()\n",
    "  dtree.fit(X_train, y_train)\n",
    "  reg_scores.append(reg.score(X_test, y_test))\n",
    "  dtree_scores.append(dtree.score(X_test, y_test))"
   ]
  },
  {
   "cell_type": "markdown",
   "metadata": {
    "colab_type": "text",
    "id": "SiYjEjKdrPw9"
   },
   "source": [
    "We can see that the scores from Linear Regression and Decision Tree are close to each other. We conclude that Decision Trees would've worked much better if we have more training data."
   ]
  },
  {
   "cell_type": "code",
   "execution_count": 249,
   "metadata": {
    "colab": {
     "base_uri": "https://localhost:8080/",
     "height": 265
    },
    "colab_type": "code",
    "id": "rehue2QBfXpy",
    "outputId": "88a045b0-5cb0-4bd3-a3d4-593c914b4e1b"
   },
   "outputs": [
    {
     "data": {
      "image/png": "[encoded data removed]",
      "text/plain": [
       "<Figure size 432x288 with 1 Axes>"
      ]
     },
     "metadata": {
      "tags": []
     },
     "output_type": "display_data"
    }
   ],
   "source": [
    "import matplotlib.pyplot as plt\n",
    "plt.bar(np.arange(len(reg_scores)), reg_scores, width=0.3, color='red')\n",
    "plt.bar(np.arange(len(dtree_scores))+ width, dtree_scores, width=0.3)\n",
    "plt.show()"
   ]
  },
  {
   "cell_type": "code",
   "execution_count": null,
   "metadata": {},
   "outputs": [],
   "source": []
  },
  {
   "cell_type": "code",
   "execution_count": null,
   "metadata": {},
   "outputs": [],
   "source": []
  }
 ],
 "metadata": {
  "kernelspec": {
   "display_name": "Python 3",
   "language": "python",
   "name": "python3"
  },
  "language_info": {
   "codemirror_mode": {
    "name": "ipython",
    "version": 3
   },
   "file_extension": ".py",
   "mimetype": "text/x-python",
   "name": "python",
   "nbconvert_exporter": "python",
   "pygments_lexer": "ipython3",
   "version": "3.7.5"
  }
 },
 "nbformat": 4,
 "nbformat_minor": 2
}
